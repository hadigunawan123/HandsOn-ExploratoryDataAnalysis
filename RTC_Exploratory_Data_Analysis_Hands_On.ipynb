{
  "nbformat": 4,
  "nbformat_minor": 0,
  "metadata": {
    "kernelspec": {
      "display_name": "dsJupyter",
      "language": "python",
      "name": "dsjupytertemplate"
    },
    "language_info": {
      "codemirror_mode": {
        "name": "ipython",
        "version": 3
      },
      "file_extension": ".py",
      "mimetype": "text/x-python",
      "name": "python",
      "nbconvert_exporter": "python",
      "pygments_lexer": "ipython3",
      "version": "3.7.4"
    },
    "colab": {
      "name": "RTC - Exploratory_Data_Analysis_Hands_On.ipynb",
      "provenance": [],
      "collapsed_sections": [],
      "toc_visible": true,
      "include_colab_link": true
    }
  },
  "cells": [
    {
      "cell_type": "markdown",
      "metadata": {
        "id": "view-in-github",
        "colab_type": "text"
      },
      "source": [
        "<a href=\"https://colab.research.google.com/github/hadigunawan123/HandsOn-ExploratoryDataAnalysis/blob/main/RTC_Exploratory_Data_Analysis_Hands_On.ipynb\" target=\"_parent\"><img src=\"https://colab.research.google.com/assets/colab-badge.svg\" alt=\"Open In Colab\"/></a>"
      ]
    },
    {
      "cell_type": "code",
      "source": [
        "1==1"
      ],
      "metadata": {
        "colab": {
          "base_uri": "https://localhost:8080/"
        },
        "id": "wxGSCanCIpmJ",
        "outputId": "8e58265b-8900-4d81-d930-42a3a17f652e"
      },
      "execution_count": null,
      "outputs": [
        {
          "output_type": "execute_result",
          "data": {
            "text/plain": [
              "True"
            ]
          },
          "metadata": {},
          "execution_count": 18
        }
      ]
    },
    {
      "cell_type": "code",
      "metadata": {
        "colab": {
          "base_uri": "https://localhost:8080/"
        },
        "id": "24xetzP08jup",
        "outputId": "4f97770f-bee7-4503-b9b2-000b0879f90d"
      },
      "source": [
        "from google.colab import drive\n",
        "drive.mount('/content/drive')"
      ],
      "execution_count": 1,
      "outputs": [
        {
          "output_type": "stream",
          "name": "stdout",
          "text": [
            "Mounted at /content/drive\n"
          ]
        }
      ]
    },
    {
      "cell_type": "code",
      "metadata": {
        "ExecuteTime": {
          "end_time": "2020-08-29T04:35:22.605758Z",
          "start_time": "2020-08-29T04:35:22.483778Z"
        },
        "id": "FCAHqFN_Wcnb"
      },
      "source": [
        "import numpy as np\n",
        "import pandas as pd\n",
        "import matplotlib.pyplot as plt\n",
        "import seaborn as sns"
      ],
      "execution_count": 2,
      "outputs": []
    },
    {
      "cell_type": "markdown",
      "metadata": {
        "id": "Ahp0IZElWcnb"
      },
      "source": [
        "## Mengubah parameter default matplotlib\n",
        "Parameter default matplotlib dapat diubah dengan rcParams sebagai berikut (optional: estetika plot)\n"
      ]
    },
    {
      "cell_type": "code",
      "metadata": {
        "ExecuteTime": {
          "end_time": "2020-08-29T04:35:23.229059Z",
          "start_time": "2020-08-29T04:35:23.214079Z"
        },
        "id": "ULs8_FOiWcnb"
      },
      "source": [
        "from matplotlib import rcParams\n",
        "\n",
        "rcParams['figure.figsize'] = (12, 4)\n",
        "rcParams['lines.linewidth'] = 3\n",
        "rcParams['xtick.labelsize'] = 'small'\n",
        "rcParams['ytick.labelsize'] = 'small'"
      ],
      "execution_count": null,
      "outputs": []
    },
    {
      "cell_type": "markdown",
      "metadata": {
        "id": "gFqDHXnkWcnb"
      },
      "source": [
        "## Load dataset"
      ]
    },
    {
      "cell_type": "markdown",
      "metadata": {
        "id": "Z3j9jQQYWcnb"
      },
      "source": [
        "Untuk hands-on kita akan melihat dataset sintetik prediksi kebotakan. Agar running time-nya tidak terlalu lama, kali ini kita ambil sampel 1000 baris data saja."
      ]
    },
    {
      "cell_type": "code",
      "metadata": {
        "ExecuteTime": {
          "end_time": "2020-08-29T04:35:24.161264Z",
          "start_time": "2020-08-29T04:35:23.966992Z"
        },
        "id": "enaTJCbmWcnb"
      },
      "source": [
        "# change file path if necessary\n",
        "df = pd.read_csv('/content/drive/MyDrive/Rakamin/Day2EDA/botak.csv').sample(1000, random_state=42)"
      ],
      "execution_count": 3,
      "outputs": []
    },
    {
      "cell_type": "markdown",
      "metadata": {
        "id": "XGx3fpRKWcnb"
      },
      "source": [
        "## Descriptive Statistics\n",
        "### Memeriksa kolom-kolom dan nilai hilang dengan `df.info()`"
      ]
    },
    {
      "cell_type": "markdown",
      "metadata": {
        "id": "5i0I3cfZWcnb"
      },
      "source": [
        "Hal pertama yang biasanya dilakukan dalam EDA adalah mengecek tipe data setiap kolom dan jumlah nilai yang hilang. Hal ini bisa kita lakukan dengan menggunakan `df.info()`."
      ]
    },
    {
      "cell_type": "code",
      "metadata": {
        "ExecuteTime": {
          "end_time": "2020-08-29T04:35:25.695391Z",
          "start_time": "2020-08-29T04:35:25.649431Z"
        },
        "scrolled": true,
        "colab": {
          "base_uri": "https://localhost:8080/"
        },
        "id": "7RfJI0fnWcnb",
        "outputId": "ac61fa55-82a7-4c3f-a5c0-6c84cfcd9cbf"
      },
      "source": [
        "df.info()"
      ],
      "execution_count": 4,
      "outputs": [
        {
          "output_type": "stream",
          "name": "stdout",
          "text": [
            "<class 'pandas.core.frame.DataFrame'>\n",
            "Int64Index: 1000 entries, 6255 to 6621\n",
            "Data columns (total 13 columns):\n",
            " #   Column         Non-Null Count  Dtype  \n",
            "---  ------         --------------  -----  \n",
            " 0   umur           1000 non-null   float64\n",
            " 1   jenis_kelamin  999 non-null    object \n",
            " 2   pekerjaan      987 non-null    object \n",
            " 3   provinsi       1000 non-null   object \n",
            " 4   gaji           1000 non-null   float64\n",
            " 5   is_menikah     1000 non-null   int64  \n",
            " 6   is_keturunan   1000 non-null   float64\n",
            " 7   berat          1000 non-null   float64\n",
            " 8   tinggi         1000 non-null   float64\n",
            " 9   sampo          1000 non-null   object \n",
            " 10  is_merokok     1000 non-null   int64  \n",
            " 11  pendidikan     1000 non-null   object \n",
            " 12  botak_prob     1000 non-null   float64\n",
            "dtypes: float64(6), int64(2), object(5)\n",
            "memory usage: 109.4+ KB\n"
          ]
        }
      ]
    },
    {
      "cell_type": "markdown",
      "metadata": {
        "id": "c5yhcpExWcnc"
      },
      "source": [
        "Kita dapat melihat bahwa:\n",
        "* Dataframe memiliki total 1000 baris dan 13 kolom\n",
        "* Dataframe masih memiliki *null* values di kolom `pekerjaan` dan `jenis_kelamin`\n",
        "* Target klasifikasi adalah kolom `botak_prob` dengan tipe data `float64`\n",
        "* Berarti sisanya adalah *feature* (predictor)\n",
        "\n",
        "Dari informasi di atas, kita bisa pisahkan kolom kategorical dan numerical sebagai berikut:"
      ]
    },
    {
      "cell_type": "code",
      "metadata": {
        "ExecuteTime": {
          "end_time": "2020-08-29T00:32:04.700005Z",
          "start_time": "2020-08-29T00:32:04.696008Z"
        },
        "id": "UbKney-6Wcnc"
      },
      "source": [
        "# best practice\n",
        "cats = ['jenis_kelamin', 'pekerjaan', 'sampo', 'pendidikan', 'provinsi']\n",
        "nums = ['umur', 'gaji', 'is_menikah', 'is_keturunan', 'berat', 'tinggi', 'is_merokok', 'botak_prob']"
      ],
      "execution_count": 5,
      "outputs": []
    },
    {
      "cell_type": "markdown",
      "metadata": {
        "id": "Q7lgvwtNWcnc"
      },
      "source": [
        "Tentu saja menyimpan nama kolom berdasarkan tipe *numeric* dan *categorical* seperti di atas tidak wajib, tapi ini lumayan akan memudahkan beberapa proses ke depannya."
      ]
    },
    {
      "cell_type": "markdown",
      "metadata": {
        "id": "6bOquij0Wcnc"
      },
      "source": [
        "### Sampling untuk memahami data dengan `df.sample()`"
      ]
    },
    {
      "cell_type": "markdown",
      "metadata": {
        "id": "duQ19hmcWcnc"
      },
      "source": [
        "Setelah mengetahui kolom apa saja yang ada di dalam dataset, kita lakukan sampling untuk memastikan apakah isi kolomnya sesuai ekspektasi. Biasakan lakukan ini beberapa kali karena seringkali apabila ada keanehan tidak akan keluar pada sampling pertama.\n",
        "\n",
        "Sampling dapat dilakukan dengan menggunakan `df.sample()`"
      ]
    },
    {
      "cell_type": "code",
      "metadata": {
        "ExecuteTime": {
          "end_time": "2020-08-29T04:36:13.934642Z",
          "start_time": "2020-08-29T04:36:13.906657Z"
        },
        "scrolled": true,
        "colab": {
          "base_uri": "https://localhost:8080/",
          "height": 206
        },
        "id": "T2c32UrTWcnc",
        "outputId": "10be4394-10bb-4f3f-e6fd-b8d70b64df75"
      },
      "source": [
        "df.sample(5)"
      ],
      "execution_count": 6,
      "outputs": [
        {
          "output_type": "execute_result",
          "data": {
            "text/plain": [
              "      umur jenis_kelamin       pekerjaan   provinsi          gaji  is_menikah  \\\n",
              "7162  30.0     Laki-laki  Pegawai swasta  Palembang  6.170969e+06           0   \n",
              "2579  38.0     Perempuan             PNS    Mataram  6.532499e+06           0   \n",
              "927   49.0     Laki-laki       Freelance  Samarinda  4.443553e+06           0   \n",
              "5366  27.0     Laki-laki       Freelance    Jakarta  7.825457e+06           0   \n",
              "5242  57.0     Perempuan       Freelance   Denpasar  6.167234e+06           0   \n",
              "\n",
              "      is_keturunan      berat      tinggi            sampo  is_merokok  \\\n",
              "7162           0.0  51.621060  144.399250         Moonsilk           1   \n",
              "2579           0.0  52.775759  156.540105          Pantone           0   \n",
              "927            0.0  46.169950  151.497659  Shoulder & Head           0   \n",
              "5366           0.0  75.090144  176.546172          Pantone           1   \n",
              "5242           0.0  66.036587  172.779685         Moonsilk           0   \n",
              "\n",
              "     pendidikan  botak_prob  \n",
              "7162         S1    0.273145  \n",
              "2579        SMP    0.277440  \n",
              "927          S1    0.232422  \n",
              "5366        SMA    0.319151  \n",
              "5242         S1    0.167210  "
            ],
            "text/html": [
              "\n",
              "  <div id=\"df-535db0d9-3731-4900-8a31-52e7fc24ba65\">\n",
              "    <div class=\"colab-df-container\">\n",
              "      <div>\n",
              "<style scoped>\n",
              "    .dataframe tbody tr th:only-of-type {\n",
              "        vertical-align: middle;\n",
              "    }\n",
              "\n",
              "    .dataframe tbody tr th {\n",
              "        vertical-align: top;\n",
              "    }\n",
              "\n",
              "    .dataframe thead th {\n",
              "        text-align: right;\n",
              "    }\n",
              "</style>\n",
              "<table border=\"1\" class=\"dataframe\">\n",
              "  <thead>\n",
              "    <tr style=\"text-align: right;\">\n",
              "      <th></th>\n",
              "      <th>umur</th>\n",
              "      <th>jenis_kelamin</th>\n",
              "      <th>pekerjaan</th>\n",
              "      <th>provinsi</th>\n",
              "      <th>gaji</th>\n",
              "      <th>is_menikah</th>\n",
              "      <th>is_keturunan</th>\n",
              "      <th>berat</th>\n",
              "      <th>tinggi</th>\n",
              "      <th>sampo</th>\n",
              "      <th>is_merokok</th>\n",
              "      <th>pendidikan</th>\n",
              "      <th>botak_prob</th>\n",
              "    </tr>\n",
              "  </thead>\n",
              "  <tbody>\n",
              "    <tr>\n",
              "      <th>7162</th>\n",
              "      <td>30.0</td>\n",
              "      <td>Laki-laki</td>\n",
              "      <td>Pegawai swasta</td>\n",
              "      <td>Palembang</td>\n",
              "      <td>6.170969e+06</td>\n",
              "      <td>0</td>\n",
              "      <td>0.0</td>\n",
              "      <td>51.621060</td>\n",
              "      <td>144.399250</td>\n",
              "      <td>Moonsilk</td>\n",
              "      <td>1</td>\n",
              "      <td>S1</td>\n",
              "      <td>0.273145</td>\n",
              "    </tr>\n",
              "    <tr>\n",
              "      <th>2579</th>\n",
              "      <td>38.0</td>\n",
              "      <td>Perempuan</td>\n",
              "      <td>PNS</td>\n",
              "      <td>Mataram</td>\n",
              "      <td>6.532499e+06</td>\n",
              "      <td>0</td>\n",
              "      <td>0.0</td>\n",
              "      <td>52.775759</td>\n",
              "      <td>156.540105</td>\n",
              "      <td>Pantone</td>\n",
              "      <td>0</td>\n",
              "      <td>SMP</td>\n",
              "      <td>0.277440</td>\n",
              "    </tr>\n",
              "    <tr>\n",
              "      <th>927</th>\n",
              "      <td>49.0</td>\n",
              "      <td>Laki-laki</td>\n",
              "      <td>Freelance</td>\n",
              "      <td>Samarinda</td>\n",
              "      <td>4.443553e+06</td>\n",
              "      <td>0</td>\n",
              "      <td>0.0</td>\n",
              "      <td>46.169950</td>\n",
              "      <td>151.497659</td>\n",
              "      <td>Shoulder &amp; Head</td>\n",
              "      <td>0</td>\n",
              "      <td>S1</td>\n",
              "      <td>0.232422</td>\n",
              "    </tr>\n",
              "    <tr>\n",
              "      <th>5366</th>\n",
              "      <td>27.0</td>\n",
              "      <td>Laki-laki</td>\n",
              "      <td>Freelance</td>\n",
              "      <td>Jakarta</td>\n",
              "      <td>7.825457e+06</td>\n",
              "      <td>0</td>\n",
              "      <td>0.0</td>\n",
              "      <td>75.090144</td>\n",
              "      <td>176.546172</td>\n",
              "      <td>Pantone</td>\n",
              "      <td>1</td>\n",
              "      <td>SMA</td>\n",
              "      <td>0.319151</td>\n",
              "    </tr>\n",
              "    <tr>\n",
              "      <th>5242</th>\n",
              "      <td>57.0</td>\n",
              "      <td>Perempuan</td>\n",
              "      <td>Freelance</td>\n",
              "      <td>Denpasar</td>\n",
              "      <td>6.167234e+06</td>\n",
              "      <td>0</td>\n",
              "      <td>0.0</td>\n",
              "      <td>66.036587</td>\n",
              "      <td>172.779685</td>\n",
              "      <td>Moonsilk</td>\n",
              "      <td>0</td>\n",
              "      <td>S1</td>\n",
              "      <td>0.167210</td>\n",
              "    </tr>\n",
              "  </tbody>\n",
              "</table>\n",
              "</div>\n",
              "      <button class=\"colab-df-convert\" onclick=\"convertToInteractive('df-535db0d9-3731-4900-8a31-52e7fc24ba65')\"\n",
              "              title=\"Convert this dataframe to an interactive table.\"\n",
              "              style=\"display:none;\">\n",
              "        \n",
              "  <svg xmlns=\"http://www.w3.org/2000/svg\" height=\"24px\"viewBox=\"0 0 24 24\"\n",
              "       width=\"24px\">\n",
              "    <path d=\"M0 0h24v24H0V0z\" fill=\"none\"/>\n",
              "    <path d=\"M18.56 5.44l.94 2.06.94-2.06 2.06-.94-2.06-.94-.94-2.06-.94 2.06-2.06.94zm-11 1L8.5 8.5l.94-2.06 2.06-.94-2.06-.94L8.5 2.5l-.94 2.06-2.06.94zm10 10l.94 2.06.94-2.06 2.06-.94-2.06-.94-.94-2.06-.94 2.06-2.06.94z\"/><path d=\"M17.41 7.96l-1.37-1.37c-.4-.4-.92-.59-1.43-.59-.52 0-1.04.2-1.43.59L10.3 9.45l-7.72 7.72c-.78.78-.78 2.05 0 2.83L4 21.41c.39.39.9.59 1.41.59.51 0 1.02-.2 1.41-.59l7.78-7.78 2.81-2.81c.8-.78.8-2.07 0-2.86zM5.41 20L4 18.59l7.72-7.72 1.47 1.35L5.41 20z\"/>\n",
              "  </svg>\n",
              "      </button>\n",
              "      \n",
              "  <style>\n",
              "    .colab-df-container {\n",
              "      display:flex;\n",
              "      flex-wrap:wrap;\n",
              "      gap: 12px;\n",
              "    }\n",
              "\n",
              "    .colab-df-convert {\n",
              "      background-color: #E8F0FE;\n",
              "      border: none;\n",
              "      border-radius: 50%;\n",
              "      cursor: pointer;\n",
              "      display: none;\n",
              "      fill: #1967D2;\n",
              "      height: 32px;\n",
              "      padding: 0 0 0 0;\n",
              "      width: 32px;\n",
              "    }\n",
              "\n",
              "    .colab-df-convert:hover {\n",
              "      background-color: #E2EBFA;\n",
              "      box-shadow: 0px 1px 2px rgba(60, 64, 67, 0.3), 0px 1px 3px 1px rgba(60, 64, 67, 0.15);\n",
              "      fill: #174EA6;\n",
              "    }\n",
              "\n",
              "    [theme=dark] .colab-df-convert {\n",
              "      background-color: #3B4455;\n",
              "      fill: #D2E3FC;\n",
              "    }\n",
              "\n",
              "    [theme=dark] .colab-df-convert:hover {\n",
              "      background-color: #434B5C;\n",
              "      box-shadow: 0px 1px 3px 1px rgba(0, 0, 0, 0.15);\n",
              "      filter: drop-shadow(0px 1px 2px rgba(0, 0, 0, 0.3));\n",
              "      fill: #FFFFFF;\n",
              "    }\n",
              "  </style>\n",
              "\n",
              "      <script>\n",
              "        const buttonEl =\n",
              "          document.querySelector('#df-535db0d9-3731-4900-8a31-52e7fc24ba65 button.colab-df-convert');\n",
              "        buttonEl.style.display =\n",
              "          google.colab.kernel.accessAllowed ? 'block' : 'none';\n",
              "\n",
              "        async function convertToInteractive(key) {\n",
              "          const element = document.querySelector('#df-535db0d9-3731-4900-8a31-52e7fc24ba65');\n",
              "          const dataTable =\n",
              "            await google.colab.kernel.invokeFunction('convertToInteractive',\n",
              "                                                     [key], {});\n",
              "          if (!dataTable) return;\n",
              "\n",
              "          const docLinkHtml = 'Like what you see? Visit the ' +\n",
              "            '<a target=\"_blank\" href=https://colab.research.google.com/notebooks/data_table.ipynb>data table notebook</a>'\n",
              "            + ' to learn more about interactive tables.';\n",
              "          element.innerHTML = '';\n",
              "          dataTable['output_type'] = 'display_data';\n",
              "          await google.colab.output.renderOutput(dataTable, element);\n",
              "          const docLink = document.createElement('div');\n",
              "          docLink.innerHTML = docLinkHtml;\n",
              "          element.appendChild(docLink);\n",
              "        }\n",
              "      </script>\n",
              "    </div>\n",
              "  </div>\n",
              "  "
            ]
          },
          "metadata": {},
          "execution_count": 6
        }
      ]
    },
    {
      "cell_type": "markdown",
      "metadata": {
        "id": "Y1r-Zeo4Wcnd"
      },
      "source": [
        "Beberapa pengamatan:\n",
        "* Target kita, `botak_prob` benar bertipe float dengan *range* 0-1, dimana 1 melambangkan kemungkinan 100%\n",
        "* Sepertinya tidak ada yang aneh dengan input setiap kolom (sudah sesuai)"
      ]
    },
    {
      "cell_type": "markdown",
      "metadata": {
        "ExecuteTime": {
          "end_time": "2020-08-25T01:13:50.998861Z",
          "start_time": "2020-08-25T01:13:50.995862Z"
        },
        "id": "RigrAOnGWcnd"
      },
      "source": [
        "### Statistical summary dengan `df.describe()`\n",
        "Selanjutnya kita munculkan ringkasan statistik dataframe, baik untuk numerical dan categorical. Hal ini dilakukan untuk mengecek secara singkat akan keberadaan outlier dan karakteristik distribusi untuk `feature` numeric."
      ]
    },
    {
      "cell_type": "code",
      "metadata": {
        "ExecuteTime": {
          "end_time": "2020-08-29T04:37:08.229068Z",
          "start_time": "2020-08-29T04:37:08.149086Z"
        },
        "colab": {
          "base_uri": "https://localhost:8080/",
          "height": 300
        },
        "id": "BzK64ajKWcnd",
        "outputId": "6c536063-c363-417a-fcda-21e4300428a1"
      },
      "source": [
        "df[nums].describe()"
      ],
      "execution_count": 7,
      "outputs": [
        {
          "output_type": "execute_result",
          "data": {
            "text/plain": [
              "              umur          gaji   is_menikah  is_keturunan        berat  \\\n",
              "count  1000.000000  1.000000e+03  1000.000000    1000.00000  1000.000000   \n",
              "mean     40.008000  9.223088e+06     0.033000       0.18000    56.162619   \n",
              "std       9.886642  4.739127e+06     0.178726       0.38438     9.258898   \n",
              "min       8.000000  1.500000e+06     0.000000       0.00000    40.921334   \n",
              "25%      33.000000  5.849544e+06     0.000000       0.00000    50.099311   \n",
              "50%      40.000000  8.107307e+06     0.000000       0.00000    54.102392   \n",
              "75%      47.000000  1.132830e+07     0.000000       0.00000    60.485423   \n",
              "max      72.000000  4.179443e+07     1.000000       1.00000   128.643924   \n",
              "\n",
              "            tinggi   is_merokok   botak_prob  \n",
              "count  1000.000000  1000.000000  1000.000000  \n",
              "mean    157.486031     0.492000     0.390735  \n",
              "std       6.548078     0.500186     0.192807  \n",
              "min     142.554038     0.000000    -0.068044  \n",
              "25%     152.899106     0.000000     0.260230  \n",
              "50%     157.293445     0.000000     0.368024  \n",
              "75%     161.493659     1.000000     0.508568  \n",
              "max     193.484937     1.000000     1.000000  "
            ],
            "text/html": [
              "\n",
              "  <div id=\"df-aad4b011-bdaf-4319-b2a3-3131981e8187\">\n",
              "    <div class=\"colab-df-container\">\n",
              "      <div>\n",
              "<style scoped>\n",
              "    .dataframe tbody tr th:only-of-type {\n",
              "        vertical-align: middle;\n",
              "    }\n",
              "\n",
              "    .dataframe tbody tr th {\n",
              "        vertical-align: top;\n",
              "    }\n",
              "\n",
              "    .dataframe thead th {\n",
              "        text-align: right;\n",
              "    }\n",
              "</style>\n",
              "<table border=\"1\" class=\"dataframe\">\n",
              "  <thead>\n",
              "    <tr style=\"text-align: right;\">\n",
              "      <th></th>\n",
              "      <th>umur</th>\n",
              "      <th>gaji</th>\n",
              "      <th>is_menikah</th>\n",
              "      <th>is_keturunan</th>\n",
              "      <th>berat</th>\n",
              "      <th>tinggi</th>\n",
              "      <th>is_merokok</th>\n",
              "      <th>botak_prob</th>\n",
              "    </tr>\n",
              "  </thead>\n",
              "  <tbody>\n",
              "    <tr>\n",
              "      <th>count</th>\n",
              "      <td>1000.000000</td>\n",
              "      <td>1.000000e+03</td>\n",
              "      <td>1000.000000</td>\n",
              "      <td>1000.00000</td>\n",
              "      <td>1000.000000</td>\n",
              "      <td>1000.000000</td>\n",
              "      <td>1000.000000</td>\n",
              "      <td>1000.000000</td>\n",
              "    </tr>\n",
              "    <tr>\n",
              "      <th>mean</th>\n",
              "      <td>40.008000</td>\n",
              "      <td>9.223088e+06</td>\n",
              "      <td>0.033000</td>\n",
              "      <td>0.18000</td>\n",
              "      <td>56.162619</td>\n",
              "      <td>157.486031</td>\n",
              "      <td>0.492000</td>\n",
              "      <td>0.390735</td>\n",
              "    </tr>\n",
              "    <tr>\n",
              "      <th>std</th>\n",
              "      <td>9.886642</td>\n",
              "      <td>4.739127e+06</td>\n",
              "      <td>0.178726</td>\n",
              "      <td>0.38438</td>\n",
              "      <td>9.258898</td>\n",
              "      <td>6.548078</td>\n",
              "      <td>0.500186</td>\n",
              "      <td>0.192807</td>\n",
              "    </tr>\n",
              "    <tr>\n",
              "      <th>min</th>\n",
              "      <td>8.000000</td>\n",
              "      <td>1.500000e+06</td>\n",
              "      <td>0.000000</td>\n",
              "      <td>0.00000</td>\n",
              "      <td>40.921334</td>\n",
              "      <td>142.554038</td>\n",
              "      <td>0.000000</td>\n",
              "      <td>-0.068044</td>\n",
              "    </tr>\n",
              "    <tr>\n",
              "      <th>25%</th>\n",
              "      <td>33.000000</td>\n",
              "      <td>5.849544e+06</td>\n",
              "      <td>0.000000</td>\n",
              "      <td>0.00000</td>\n",
              "      <td>50.099311</td>\n",
              "      <td>152.899106</td>\n",
              "      <td>0.000000</td>\n",
              "      <td>0.260230</td>\n",
              "    </tr>\n",
              "    <tr>\n",
              "      <th>50%</th>\n",
              "      <td>40.000000</td>\n",
              "      <td>8.107307e+06</td>\n",
              "      <td>0.000000</td>\n",
              "      <td>0.00000</td>\n",
              "      <td>54.102392</td>\n",
              "      <td>157.293445</td>\n",
              "      <td>0.000000</td>\n",
              "      <td>0.368024</td>\n",
              "    </tr>\n",
              "    <tr>\n",
              "      <th>75%</th>\n",
              "      <td>47.000000</td>\n",
              "      <td>1.132830e+07</td>\n",
              "      <td>0.000000</td>\n",
              "      <td>0.00000</td>\n",
              "      <td>60.485423</td>\n",
              "      <td>161.493659</td>\n",
              "      <td>1.000000</td>\n",
              "      <td>0.508568</td>\n",
              "    </tr>\n",
              "    <tr>\n",
              "      <th>max</th>\n",
              "      <td>72.000000</td>\n",
              "      <td>4.179443e+07</td>\n",
              "      <td>1.000000</td>\n",
              "      <td>1.00000</td>\n",
              "      <td>128.643924</td>\n",
              "      <td>193.484937</td>\n",
              "      <td>1.000000</td>\n",
              "      <td>1.000000</td>\n",
              "    </tr>\n",
              "  </tbody>\n",
              "</table>\n",
              "</div>\n",
              "      <button class=\"colab-df-convert\" onclick=\"convertToInteractive('df-aad4b011-bdaf-4319-b2a3-3131981e8187')\"\n",
              "              title=\"Convert this dataframe to an interactive table.\"\n",
              "              style=\"display:none;\">\n",
              "        \n",
              "  <svg xmlns=\"http://www.w3.org/2000/svg\" height=\"24px\"viewBox=\"0 0 24 24\"\n",
              "       width=\"24px\">\n",
              "    <path d=\"M0 0h24v24H0V0z\" fill=\"none\"/>\n",
              "    <path d=\"M18.56 5.44l.94 2.06.94-2.06 2.06-.94-2.06-.94-.94-2.06-.94 2.06-2.06.94zm-11 1L8.5 8.5l.94-2.06 2.06-.94-2.06-.94L8.5 2.5l-.94 2.06-2.06.94zm10 10l.94 2.06.94-2.06 2.06-.94-2.06-.94-.94-2.06-.94 2.06-2.06.94z\"/><path d=\"M17.41 7.96l-1.37-1.37c-.4-.4-.92-.59-1.43-.59-.52 0-1.04.2-1.43.59L10.3 9.45l-7.72 7.72c-.78.78-.78 2.05 0 2.83L4 21.41c.39.39.9.59 1.41.59.51 0 1.02-.2 1.41-.59l7.78-7.78 2.81-2.81c.8-.78.8-2.07 0-2.86zM5.41 20L4 18.59l7.72-7.72 1.47 1.35L5.41 20z\"/>\n",
              "  </svg>\n",
              "      </button>\n",
              "      \n",
              "  <style>\n",
              "    .colab-df-container {\n",
              "      display:flex;\n",
              "      flex-wrap:wrap;\n",
              "      gap: 12px;\n",
              "    }\n",
              "\n",
              "    .colab-df-convert {\n",
              "      background-color: #E8F0FE;\n",
              "      border: none;\n",
              "      border-radius: 50%;\n",
              "      cursor: pointer;\n",
              "      display: none;\n",
              "      fill: #1967D2;\n",
              "      height: 32px;\n",
              "      padding: 0 0 0 0;\n",
              "      width: 32px;\n",
              "    }\n",
              "\n",
              "    .colab-df-convert:hover {\n",
              "      background-color: #E2EBFA;\n",
              "      box-shadow: 0px 1px 2px rgba(60, 64, 67, 0.3), 0px 1px 3px 1px rgba(60, 64, 67, 0.15);\n",
              "      fill: #174EA6;\n",
              "    }\n",
              "\n",
              "    [theme=dark] .colab-df-convert {\n",
              "      background-color: #3B4455;\n",
              "      fill: #D2E3FC;\n",
              "    }\n",
              "\n",
              "    [theme=dark] .colab-df-convert:hover {\n",
              "      background-color: #434B5C;\n",
              "      box-shadow: 0px 1px 3px 1px rgba(0, 0, 0, 0.15);\n",
              "      filter: drop-shadow(0px 1px 2px rgba(0, 0, 0, 0.3));\n",
              "      fill: #FFFFFF;\n",
              "    }\n",
              "  </style>\n",
              "\n",
              "      <script>\n",
              "        const buttonEl =\n",
              "          document.querySelector('#df-aad4b011-bdaf-4319-b2a3-3131981e8187 button.colab-df-convert');\n",
              "        buttonEl.style.display =\n",
              "          google.colab.kernel.accessAllowed ? 'block' : 'none';\n",
              "\n",
              "        async function convertToInteractive(key) {\n",
              "          const element = document.querySelector('#df-aad4b011-bdaf-4319-b2a3-3131981e8187');\n",
              "          const dataTable =\n",
              "            await google.colab.kernel.invokeFunction('convertToInteractive',\n",
              "                                                     [key], {});\n",
              "          if (!dataTable) return;\n",
              "\n",
              "          const docLinkHtml = 'Like what you see? Visit the ' +\n",
              "            '<a target=\"_blank\" href=https://colab.research.google.com/notebooks/data_table.ipynb>data table notebook</a>'\n",
              "            + ' to learn more about interactive tables.';\n",
              "          element.innerHTML = '';\n",
              "          dataTable['output_type'] = 'display_data';\n",
              "          await google.colab.output.renderOutput(dataTable, element);\n",
              "          const docLink = document.createElement('div');\n",
              "          docLink.innerHTML = docLinkHtml;\n",
              "          element.appendChild(docLink);\n",
              "        }\n",
              "      </script>\n",
              "    </div>\n",
              "  </div>\n",
              "  "
            ]
          },
          "metadata": {},
          "execution_count": 7
        }
      ]
    },
    {
      "cell_type": "markdown",
      "metadata": {
        "id": "4SceQdfMWcnd"
      },
      "source": [
        "Beberapa pengamatan dari *statistical summary* kolom numerik di atas:\n",
        "* Distribusi nilai di kolom `umur` terlihat normal/simetrik (*mean* dan *median* cukup dekat, dan nilai Q2 kira2 tepat di tengah2 Q1 - Q3)\n",
        "* Sedangkan kolom `gaji` tampaknya tidak simetrik, karena mean > median\n",
        "* Ada baris yang memiliki probability `botak_prob` minus. Baris ini harus dihilangkan di tahap pre-processing nanti"
      ]
    },
    {
      "cell_type": "code",
      "metadata": {
        "colab": {
          "base_uri": "https://localhost:8080/"
        },
        "id": "IgfogYgjZSCa",
        "outputId": "b8615c28-90d2-4643-dd2c-7857f301541b"
      },
      "source": [
        "# jumlah baris dengan botak_prob negative\n",
        "df[df['botak_prob']<0].shape[0]"
      ],
      "execution_count": 8,
      "outputs": [
        {
          "output_type": "execute_result",
          "data": {
            "text/plain": [
              "11"
            ]
          },
          "metadata": {},
          "execution_count": 8
        }
      ]
    },
    {
      "cell_type": "code",
      "metadata": {
        "ExecuteTime": {
          "end_time": "2020-08-29T00:32:07.456785Z",
          "start_time": "2020-08-29T00:32:07.423804Z"
        },
        "scrolled": false,
        "colab": {
          "base_uri": "https://localhost:8080/",
          "height": 175
        },
        "id": "01tAVWj5Wcnd",
        "outputId": "43fe0d1e-11e8-4ad6-f28e-59d73e2d2272"
      },
      "source": [
        "df[cats].describe()"
      ],
      "execution_count": 9,
      "outputs": [
        {
          "output_type": "execute_result",
          "data": {
            "text/plain": [
              "       jenis_kelamin       pekerjaan    sampo pendidikan  provinsi\n",
              "count            999             987     1000       1000      1000\n",
              "unique             2               4        5          6        34\n",
              "top        Laki-laki  Pegawai swasta  Merpati         S1  Denpasar\n",
              "freq             684             409      228        562        41"
            ],
            "text/html": [
              "\n",
              "  <div id=\"df-7a6a2d39-9b4c-4054-bfbf-14a31c171022\">\n",
              "    <div class=\"colab-df-container\">\n",
              "      <div>\n",
              "<style scoped>\n",
              "    .dataframe tbody tr th:only-of-type {\n",
              "        vertical-align: middle;\n",
              "    }\n",
              "\n",
              "    .dataframe tbody tr th {\n",
              "        vertical-align: top;\n",
              "    }\n",
              "\n",
              "    .dataframe thead th {\n",
              "        text-align: right;\n",
              "    }\n",
              "</style>\n",
              "<table border=\"1\" class=\"dataframe\">\n",
              "  <thead>\n",
              "    <tr style=\"text-align: right;\">\n",
              "      <th></th>\n",
              "      <th>jenis_kelamin</th>\n",
              "      <th>pekerjaan</th>\n",
              "      <th>sampo</th>\n",
              "      <th>pendidikan</th>\n",
              "      <th>provinsi</th>\n",
              "    </tr>\n",
              "  </thead>\n",
              "  <tbody>\n",
              "    <tr>\n",
              "      <th>count</th>\n",
              "      <td>999</td>\n",
              "      <td>987</td>\n",
              "      <td>1000</td>\n",
              "      <td>1000</td>\n",
              "      <td>1000</td>\n",
              "    </tr>\n",
              "    <tr>\n",
              "      <th>unique</th>\n",
              "      <td>2</td>\n",
              "      <td>4</td>\n",
              "      <td>5</td>\n",
              "      <td>6</td>\n",
              "      <td>34</td>\n",
              "    </tr>\n",
              "    <tr>\n",
              "      <th>top</th>\n",
              "      <td>Laki-laki</td>\n",
              "      <td>Pegawai swasta</td>\n",
              "      <td>Merpati</td>\n",
              "      <td>S1</td>\n",
              "      <td>Denpasar</td>\n",
              "    </tr>\n",
              "    <tr>\n",
              "      <th>freq</th>\n",
              "      <td>684</td>\n",
              "      <td>409</td>\n",
              "      <td>228</td>\n",
              "      <td>562</td>\n",
              "      <td>41</td>\n",
              "    </tr>\n",
              "  </tbody>\n",
              "</table>\n",
              "</div>\n",
              "      <button class=\"colab-df-convert\" onclick=\"convertToInteractive('df-7a6a2d39-9b4c-4054-bfbf-14a31c171022')\"\n",
              "              title=\"Convert this dataframe to an interactive table.\"\n",
              "              style=\"display:none;\">\n",
              "        \n",
              "  <svg xmlns=\"http://www.w3.org/2000/svg\" height=\"24px\"viewBox=\"0 0 24 24\"\n",
              "       width=\"24px\">\n",
              "    <path d=\"M0 0h24v24H0V0z\" fill=\"none\"/>\n",
              "    <path d=\"M18.56 5.44l.94 2.06.94-2.06 2.06-.94-2.06-.94-.94-2.06-.94 2.06-2.06.94zm-11 1L8.5 8.5l.94-2.06 2.06-.94-2.06-.94L8.5 2.5l-.94 2.06-2.06.94zm10 10l.94 2.06.94-2.06 2.06-.94-2.06-.94-.94-2.06-.94 2.06-2.06.94z\"/><path d=\"M17.41 7.96l-1.37-1.37c-.4-.4-.92-.59-1.43-.59-.52 0-1.04.2-1.43.59L10.3 9.45l-7.72 7.72c-.78.78-.78 2.05 0 2.83L4 21.41c.39.39.9.59 1.41.59.51 0 1.02-.2 1.41-.59l7.78-7.78 2.81-2.81c.8-.78.8-2.07 0-2.86zM5.41 20L4 18.59l7.72-7.72 1.47 1.35L5.41 20z\"/>\n",
              "  </svg>\n",
              "      </button>\n",
              "      \n",
              "  <style>\n",
              "    .colab-df-container {\n",
              "      display:flex;\n",
              "      flex-wrap:wrap;\n",
              "      gap: 12px;\n",
              "    }\n",
              "\n",
              "    .colab-df-convert {\n",
              "      background-color: #E8F0FE;\n",
              "      border: none;\n",
              "      border-radius: 50%;\n",
              "      cursor: pointer;\n",
              "      display: none;\n",
              "      fill: #1967D2;\n",
              "      height: 32px;\n",
              "      padding: 0 0 0 0;\n",
              "      width: 32px;\n",
              "    }\n",
              "\n",
              "    .colab-df-convert:hover {\n",
              "      background-color: #E2EBFA;\n",
              "      box-shadow: 0px 1px 2px rgba(60, 64, 67, 0.3), 0px 1px 3px 1px rgba(60, 64, 67, 0.15);\n",
              "      fill: #174EA6;\n",
              "    }\n",
              "\n",
              "    [theme=dark] .colab-df-convert {\n",
              "      background-color: #3B4455;\n",
              "      fill: #D2E3FC;\n",
              "    }\n",
              "\n",
              "    [theme=dark] .colab-df-convert:hover {\n",
              "      background-color: #434B5C;\n",
              "      box-shadow: 0px 1px 3px 1px rgba(0, 0, 0, 0.15);\n",
              "      filter: drop-shadow(0px 1px 2px rgba(0, 0, 0, 0.3));\n",
              "      fill: #FFFFFF;\n",
              "    }\n",
              "  </style>\n",
              "\n",
              "      <script>\n",
              "        const buttonEl =\n",
              "          document.querySelector('#df-7a6a2d39-9b4c-4054-bfbf-14a31c171022 button.colab-df-convert');\n",
              "        buttonEl.style.display =\n",
              "          google.colab.kernel.accessAllowed ? 'block' : 'none';\n",
              "\n",
              "        async function convertToInteractive(key) {\n",
              "          const element = document.querySelector('#df-7a6a2d39-9b4c-4054-bfbf-14a31c171022');\n",
              "          const dataTable =\n",
              "            await google.colab.kernel.invokeFunction('convertToInteractive',\n",
              "                                                     [key], {});\n",
              "          if (!dataTable) return;\n",
              "\n",
              "          const docLinkHtml = 'Like what you see? Visit the ' +\n",
              "            '<a target=\"_blank\" href=https://colab.research.google.com/notebooks/data_table.ipynb>data table notebook</a>'\n",
              "            + ' to learn more about interactive tables.';\n",
              "          element.innerHTML = '';\n",
              "          dataTable['output_type'] = 'display_data';\n",
              "          await google.colab.output.renderOutput(dataTable, element);\n",
              "          const docLink = document.createElement('div');\n",
              "          docLink.innerHTML = docLinkHtml;\n",
              "          element.appendChild(docLink);\n",
              "        }\n",
              "      </script>\n",
              "    </div>\n",
              "  </div>\n",
              "  "
            ]
          },
          "metadata": {},
          "execution_count": 9
        }
      ]
    },
    {
      "cell_type": "markdown",
      "metadata": {
        "id": "F4bMXuioWcnd"
      },
      "source": [
        "Beberapa pengamatan dari *statistical summary* kolom kategorikal di atas:\n",
        "* Mayoritas data adalah Laki-laki (Top kolom `jenis_kelamin` adalah `Laki-laki` dengan frekuensi 684)\n",
        "* Kolom `provinsi` memiliki jumlah nilai unik yang banyak;ada kemungkinan tidak terlalu berguna untuk menjadi predictor"
      ]
    },
    {
      "cell_type": "markdown",
      "metadata": {
        "id": "Juio7NVFWcnd"
      },
      "source": [
        "## Univariate Analysis\n",
        "Setelah melakukan analisis sederhana tentang statistik deskriptif, sekarang kita fokus pada satu-persatu kolom dengan *Univariate Analysis*"
      ]
    },
    {
      "cell_type": "markdown",
      "metadata": {
        "id": "OQA6nvPjWcnd"
      },
      "source": [
        "### Box plots"
      ]
    },
    {
      "cell_type": "code",
      "metadata": {
        "ExecuteTime": {
          "end_time": "2020-08-29T04:42:08.001602Z",
          "start_time": "2020-08-29T04:42:06.531448Z"
        },
        "scrolled": true,
        "colab": {
          "base_uri": "https://localhost:8080/",
          "height": 505
        },
        "id": "AHFiQSI4Wcnd",
        "outputId": "ac582010-7a28-4309-a493-1da485a44c60"
      },
      "source": [
        "for i in range(0, len(nums)):\n",
        "    plt.subplot(1, len(nums), i+1)\n",
        "    sns.boxplot(y=df[nums[i]], color='gray', orient='v')\n",
        "    plt.tight_layout()"
      ],
      "execution_count": 10,
      "outputs": [
        {
          "output_type": "stream",
          "name": "stderr",
          "text": [
            "/usr/local/lib/python3.7/dist-packages/ipykernel_launcher.py:4: UserWarning: Tight layout not applied. tight_layout cannot make axes width small enough to accommodate all axes decorations\n",
            "  after removing the cwd from sys.path.\n",
            "/usr/local/lib/python3.7/dist-packages/ipykernel_launcher.py:4: UserWarning: Tight layout not applied. tight_layout cannot make axes width small enough to accommodate all axes decorations\n",
            "  after removing the cwd from sys.path.\n",
            "/usr/local/lib/python3.7/dist-packages/ipykernel_launcher.py:4: UserWarning: Tight layout not applied. tight_layout cannot make axes width small enough to accommodate all axes decorations\n",
            "  after removing the cwd from sys.path.\n",
            "/usr/local/lib/python3.7/dist-packages/ipykernel_launcher.py:4: UserWarning: Tight layout not applied. tight_layout cannot make axes width small enough to accommodate all axes decorations\n",
            "  after removing the cwd from sys.path.\n",
            "/usr/local/lib/python3.7/dist-packages/ipykernel_launcher.py:4: UserWarning: Tight layout not applied. tight_layout cannot make axes width small enough to accommodate all axes decorations\n",
            "  after removing the cwd from sys.path.\n",
            "/usr/local/lib/python3.7/dist-packages/ipykernel_launcher.py:4: UserWarning: Tight layout not applied. tight_layout cannot make axes width small enough to accommodate all axes decorations\n",
            "  after removing the cwd from sys.path.\n"
          ]
        },
        {
          "output_type": "display_data",
          "data": {
            "text/plain": [
              "<Figure size 432x288 with 8 Axes>"
            ],
            "image/png": "[encoded data removed]"
          },
          "metadata": {
            "needs_background": "light"
          }
        }
      ]
    },
    {
      "cell_type": "markdown",
      "metadata": {
        "id": "eM7NVf00Wcnd"
      },
      "source": [
        "Untuk boxplot, hal paling penting yang harus kita perhatikan adalah keberadaan outlier.\n",
        "* Outlier terlihat utamanya pada kolom `gaji`, `berat`, dan `tinggi`\n",
        "* Dari boxplotnya terlihat mana distribusi yang terlihat agak *skewed* (tidak simetrik) yang ditandai dengan lokasi box yang jauh dari daterah tengah sumbu Y: `gaji`, `berat`, `tinggi`"
      ]
    },
    {
      "cell_type": "markdown",
      "metadata": {
        "ExecuteTime": {
          "end_time": "2020-08-25T01:31:54.648374Z",
          "start_time": "2020-08-25T01:31:54.645375Z"
        },
        "id": "wIJ4xk-sWcnd"
      },
      "source": [
        "### Dist plots"
      ]
    },
    {
      "cell_type": "code",
      "metadata": {
        "ExecuteTime": {
          "end_time": "2020-08-29T04:46:20.960234Z",
          "start_time": "2020-08-29T04:46:18.699139Z"
        },
        "colab": {
          "base_uri": "https://localhost:8080/",
          "height": 667
        },
        "id": "vTq7jD88Wcnd",
        "outputId": "745852c7-29dc-4322-c731-d0fae1244b7a"
      },
      "source": [
        "plt.figure(figsize=(12, 5))\n",
        "for i in range(0, len(nums)):\n",
        "    plt.subplot(2, len(nums)/2, i+1)\n",
        "    sns.distplot(df[nums[i]], color='gray')\n",
        "    plt.tight_layout()"
      ],
      "execution_count": 11,
      "outputs": [
        {
          "output_type": "stream",
          "name": "stderr",
          "text": [
            "/usr/local/lib/python3.7/dist-packages/seaborn/distributions.py:2619: FutureWarning: `distplot` is a deprecated function and will be removed in a future version. Please adapt your code to use either `displot` (a figure-level function with similar flexibility) or `histplot` (an axes-level function for histograms).\n",
            "  warnings.warn(msg, FutureWarning)\n",
            "/usr/local/lib/python3.7/dist-packages/seaborn/distributions.py:2619: FutureWarning: `distplot` is a deprecated function and will be removed in a future version. Please adapt your code to use either `displot` (a figure-level function with similar flexibility) or `histplot` (an axes-level function for histograms).\n",
            "  warnings.warn(msg, FutureWarning)\n",
            "/usr/local/lib/python3.7/dist-packages/seaborn/distributions.py:2619: FutureWarning: `distplot` is a deprecated function and will be removed in a future version. Please adapt your code to use either `displot` (a figure-level function with similar flexibility) or `histplot` (an axes-level function for histograms).\n",
            "  warnings.warn(msg, FutureWarning)\n",
            "/usr/local/lib/python3.7/dist-packages/seaborn/distributions.py:2619: FutureWarning: `distplot` is a deprecated function and will be removed in a future version. Please adapt your code to use either `displot` (a figure-level function with similar flexibility) or `histplot` (an axes-level function for histograms).\n",
            "  warnings.warn(msg, FutureWarning)\n",
            "/usr/local/lib/python3.7/dist-packages/seaborn/distributions.py:2619: FutureWarning: `distplot` is a deprecated function and will be removed in a future version. Please adapt your code to use either `displot` (a figure-level function with similar flexibility) or `histplot` (an axes-level function for histograms).\n",
            "  warnings.warn(msg, FutureWarning)\n",
            "/usr/local/lib/python3.7/dist-packages/seaborn/distributions.py:2619: FutureWarning: `distplot` is a deprecated function and will be removed in a future version. Please adapt your code to use either `displot` (a figure-level function with similar flexibility) or `histplot` (an axes-level function for histograms).\n",
            "  warnings.warn(msg, FutureWarning)\n",
            "/usr/local/lib/python3.7/dist-packages/seaborn/distributions.py:2619: FutureWarning: `distplot` is a deprecated function and will be removed in a future version. Please adapt your code to use either `displot` (a figure-level function with similar flexibility) or `histplot` (an axes-level function for histograms).\n",
            "  warnings.warn(msg, FutureWarning)\n",
            "/usr/local/lib/python3.7/dist-packages/seaborn/distributions.py:2619: FutureWarning: `distplot` is a deprecated function and will be removed in a future version. Please adapt your code to use either `displot` (a figure-level function with similar flexibility) or `histplot` (an axes-level function for histograms).\n",
            "  warnings.warn(msg, FutureWarning)\n"
          ]
        },
        {
          "output_type": "display_data",
          "data": {
            "text/plain": [
              "<Figure size 864x360 with 8 Axes>"
            ],
            "image/png": "[encoded data removed]"
          },
          "metadata": {
            "needs_background": "light"
          }
        }
      ]
    },
    {
      "cell_type": "markdown",
      "metadata": {
        "id": "YNv0HtEZWcnd"
      },
      "source": [
        "Untuk distribution plot, hal utama yang perlu diperhatikan adalah bentuk distribusi:\n",
        "* Seperti dugaan kita ketika melihat boxplot di atas, kolom `gaji`, `berat`, dan `tinggi` sedikit *skewed*\n",
        "* Berarti ada kemungkinan kita perlu melakukan sesuatu pada kolom2 tersebut nantinya\n",
        "* Selain kolom2 itu distribusinya terlihat cukup simetrik"
      ]
    },
    {
      "cell_type": "markdown",
      "metadata": {
        "id": "CyWdEfDKWcnd"
      },
      "source": [
        "### Count plot (categorical)"
      ]
    },
    {
      "cell_type": "code",
      "metadata": {
        "ExecuteTime": {
          "end_time": "2020-08-29T00:32:14.834179Z",
          "start_time": "2020-08-29T00:32:13.916291Z"
        },
        "scrolled": true,
        "colab": {
          "base_uri": "https://localhost:8080/",
          "height": 491
        },
        "id": "SACYYuBKWcnd",
        "outputId": "92944771-2e83-4e77-bcd6-d588f8bfd512"
      },
      "source": [
        "for i in range(0, len(cats)):\n",
        "    plt.subplot(2, 3, i+1)\n",
        "    sns.countplot(df[cats[i]], color='gray', orient='v')\n",
        "    plt.xticks(rotation=20)\n",
        "    plt.tight_layout()"
      ],
      "execution_count": 12,
      "outputs": [
        {
          "output_type": "stream",
          "name": "stderr",
          "text": [
            "/usr/local/lib/python3.7/dist-packages/seaborn/_decorators.py:43: FutureWarning: Pass the following variable as a keyword arg: x. From version 0.12, the only valid positional argument will be `data`, and passing other arguments without an explicit keyword will result in an error or misinterpretation.\n",
            "  FutureWarning\n",
            "/usr/local/lib/python3.7/dist-packages/seaborn/_decorators.py:43: FutureWarning: Pass the following variable as a keyword arg: x. From version 0.12, the only valid positional argument will be `data`, and passing other arguments without an explicit keyword will result in an error or misinterpretation.\n",
            "  FutureWarning\n",
            "/usr/local/lib/python3.7/dist-packages/seaborn/_decorators.py:43: FutureWarning: Pass the following variable as a keyword arg: x. From version 0.12, the only valid positional argument will be `data`, and passing other arguments without an explicit keyword will result in an error or misinterpretation.\n",
            "  FutureWarning\n",
            "/usr/local/lib/python3.7/dist-packages/seaborn/_decorators.py:43: FutureWarning: Pass the following variable as a keyword arg: x. From version 0.12, the only valid positional argument will be `data`, and passing other arguments without an explicit keyword will result in an error or misinterpretation.\n",
            "  FutureWarning\n",
            "/usr/local/lib/python3.7/dist-packages/seaborn/_decorators.py:43: FutureWarning: Pass the following variable as a keyword arg: x. From version 0.12, the only valid positional argument will be `data`, and passing other arguments without an explicit keyword will result in an error or misinterpretation.\n",
            "  FutureWarning\n"
          ]
        },
        {
          "output_type": "display_data",
          "data": {
            "text/plain": [
              "<Figure size 432x288 with 5 Axes>"
            ],
            "image/png": "[encoded data removed]"
          },
          "metadata": {
            "needs_background": "light"
          }
        }
      ]
    },
    {
      "cell_type": "markdown",
      "metadata": {
        "id": "3iqVbOyFWcnd"
      },
      "source": [
        "Terakhir kita lihat count plot untuk setiap data. Seperti pengamatan kita sebelumnya, distribusi `pendidikan` dan `pekerjaan` didominasi 1-2 value.\n"
      ]
    },
    {
      "cell_type": "markdown",
      "metadata": {
        "id": "na6hG7iJWcne"
      },
      "source": [
        "## Bivariate Analysis / Multivariate Analysis"
      ]
    },
    {
      "cell_type": "markdown",
      "metadata": {
        "id": "xR7Sg6NgWcne"
      },
      "source": [
        "Setelah menilik setiap kolom secara individual, sekarang kita akan melihat hubungan antar kolom. Mengetahui hubungan antar kolom dapat membantu kita memilih fitur-fitur yang paling penting dan mengesampingkan *feature* yang redundan."
      ]
    },
    {
      "cell_type": "markdown",
      "metadata": {
        "id": "qa7EPitBWcne"
      },
      "source": [
        "### Correlation heatmap"
      ]
    },
    {
      "cell_type": "code",
      "metadata": {
        "ExecuteTime": {
          "end_time": "2020-08-29T00:32:15.304922Z",
          "start_time": "2020-08-29T00:32:14.836179Z"
        },
        "colab": {
          "base_uri": "https://localhost:8080/",
          "height": 395
        },
        "id": "Q1KXwJlPWcne",
        "outputId": "46d0acc4-ca03-413f-c4ef-ad9ed4402aed"
      },
      "source": [
        "plt.figure(figsize=(8, 5))\n",
        "sns.heatmap(df.corr(), cmap='Blues', annot=True, fmt='.2f')"
      ],
      "execution_count": 13,
      "outputs": [
        {
          "output_type": "execute_result",
          "data": {
            "text/plain": [
              "<matplotlib.axes._subplots.AxesSubplot at 0x7f0701ef2ad0>"
            ]
          },
          "metadata": {},
          "execution_count": 13
        },
        {
          "output_type": "display_data",
          "data": {
            "text/plain": [
              "<Figure size 576x360 with 2 Axes>"
            ],
            "image/png": "[encoded data removed]"
          },
          "metadata": {
            "needs_background": "light"
          }
        }
      ]
    },
    {
      "cell_type": "markdown",
      "metadata": {
        "id": "5IV0XEBRWcne"
      },
      "source": [
        "Dari *correlation heatmap* di atas dapat dilihat bahwa:\n",
        "* Target kita `botak_prob` memiliki korelasi positif kuat dengan `is_keturunan`\n",
        "* Ia juga memiliki korelasi positif lemah dengan `umur`, `is_menikah`, dan `is_merokok`\n",
        "* `tinggi` juga memiliki korelasi positif kuat dengan `berat`. Ada kemungkinan kedua *feature* ini redundan"
      ]
    },
    {
      "cell_type": "markdown",
      "metadata": {
        "id": "zGfqMhp0Wcne"
      },
      "source": [
        "## EDA Conclusion\n",
        "Beberapa hal yang kita temukan dari EDA dataset ini adalah:\n",
        "* Data terlihat valid dan tidak ada kecacatan yang major\n",
        "* Namun masih ada baris dengan target variabel bernilai negatif, yang mana tidak mungkin, jadi perlu didrop nantinya. \n",
        "* Juga masih ada data-data yang kosong/hilang, harus diurus ketika preprocessing\n",
        "* Ada beberapa distribusi yang sedikit *skewed*, hal ini harus diingat apabila kita ingin melakukan sesuatu atau menggunakan model yang memerlukan asumsi distribusi normal\n",
        "* Beberapa *feature* memiliki korelasi yang jelas dengan *target*, mereka akan dipakai\n",
        "* Beberapa *feature* terlihat sama sekali tidak berkorelasi, mereka sebaiknya diabaikan\n",
        "* Dari Heatmap: ada feature yang korelasinya tinggi satu sama lain (berat/tinggi) mungkin cuma akan dipakai satu"
      ]
    },
    {
      "cell_type": "code",
      "metadata": {
        "id": "Ni5fw4FJux3z"
      },
      "source": [
        ""
      ],
      "execution_count": null,
      "outputs": []
    }
  ]
}